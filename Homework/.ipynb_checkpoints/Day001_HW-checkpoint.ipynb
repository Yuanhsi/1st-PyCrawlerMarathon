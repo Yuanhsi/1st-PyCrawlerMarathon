{
 "cells": [
  {
   "cell_type": "markdown",
   "metadata": {},
   "source": [
    "# (簡答題）檔案、API、爬蟲三種取得資料方式有什麼不同？"
   ]
  },
  {
   "cell_type": "markdown",
   "metadata": {},
   "source": [
    "### 資料釋出的三種來源，\n",
    "檔案為可下載的csv, json等格式\n",
    "API為開放接口，提供程式化的連接接口，使工程師可以選擇資料中要讀取的特定部分，而不需要事先把所有資料歐下載\n",
    "網頁爬蟲，只資料沒有以檔案或ＡＰＩ方式提供，但出現在網頁上，可以利用爬蟲程式將網頁資料抓下來。\n",
    "前兩者為資料擁有者主動釋出資料，爬蟲則是資料擁有者被動公開。"
   ]
  },
  {
   "cell_type": "code",
   "execution_count": 5,
   "metadata": {},
   "outputs": [],
   "source": [
    "from urllib.request import urlretrieve\n",
    "import os"
   ]
  },
  {
   "cell_type": "code",
   "execution_count": 27,
   "metadata": {
    "scrolled": true
   },
   "outputs": [
    {
     "data": {
      "text/plain": [
       "('homework.csv', <http.client.HTTPMessage at 0x10ae4a438>)"
      ]
     },
     "execution_count": 27,
     "metadata": {},
     "output_type": "execute_result"
    }
   ],
   "source": [
    "urlretrieve(\"https://drive.google.com/uc?export=download&confirm=jeak&id=1ggm5IJS2ATjiWg4e205nJQrmPzJu1MjJ\", \"homework.csv\")"
   ]
  },
  {
   "cell_type": "markdown",
   "metadata": {},
   "source": [
    "# # 下載檔案到 Data 資料夾，存成檔名 Homework.txt"
   ]
  },
  {
   "cell_type": "code",
   "execution_count": 28,
   "metadata": {},
   "outputs": [],
   "source": [
    "try: \n",
    "    os.makedirs('/Users/yuanhsiliao/Desktop/GitHub/1st-PyCrawlerMarathon/Homework/data', exist_ok = True)\n",
    "    '''\n",
    "    homework.csv\n",
    "    '''\n",
    "except:\n",
    "    print('發生錯誤')"
   ]
  },
  {
   "cell_type": "markdown",
   "metadata": {},
   "source": [
    "# 檢查 Data 資料夾是否有 Homework.txt 檔名之檔案"
   ]
  },
  {
   "cell_type": "code",
   "execution_count": 34,
   "metadata": {},
   "outputs": [
    {
     "name": "stdout",
     "output_type": "stream",
     "text": [
      "[X] 檢查 Data 資料夾是否有 Homework.txt 檔名之檔案\n"
     ]
    }
   ],
   "source": [
    "files = []\n",
    "'''\n",
    "/Users/yuanhsiliao/Desktop/GitHub/1st-PyCrawlerMarathon/Homework/data\n",
    "'''\n",
    "\n",
    "if 'Homework.txt' in files:\n",
    "    print('[O] 檢查 Data 資料夾是否有 Homework.txt 檔名之檔案')\n",
    "else:\n",
    "     print('[X] 檢查 Data 資料夾是否有 Homework.txt 檔名之檔案') "
   ]
  },
  {
   "cell_type": "markdown",
   "metadata": {},
   "source": [
    "# 將「Hello World」字串覆寫到 Homework.txt 檔案"
   ]
  },
  {
   "cell_type": "code",
   "execution_count": 25,
   "metadata": {},
   "outputs": [],
   "source": [
    "f = ''\n",
    "\n",
    "with open(\"./Data/Homework.txt\", \"w\") as fh:\n",
    "    '''\n",
    "    /Users/yuanhsiliao/Desktop/GitHub/1st-PyCrawlerMarathon/Homework/data\n",
    "    '''\n",
    "\n",
    "try:\n",
    "    with open(\"./Data/Homework.txt\", \"r\") as fh:\n",
    "        '''\n",
    "        /Users/yuanhsiliao/Desktop/GitHub/1st-PyCrawlerMarathon/Homework/data\n",
    "        '''\n",
    "except EnvironmentError: # parent of IOError, OSError *and* WindowsError where available\n",
    "    pass    "
   ]
  },
  {
   "cell_type": "markdown",
   "metadata": {},
   "source": [
    "# 檢查 Homework.txt 檔案字數是否符合 Hello World 字數"
   ]
  },
  {
   "cell_type": "code",
   "execution_count": 26,
   "metadata": {},
   "outputs": [
    {
     "name": "stdout",
     "output_type": "stream",
     "text": [
      "[X] 檢查 Homework.txt 檔案字數是否符合 Hello World 字數\n"
     ]
    }
   ],
   "source": [
    "if len('Hello World') == len(f):\n",
    "    print('[O] 檢查 Homework.txt 檔案字數是否符合 Hello World 字數')\n",
    "else:\n",
    "    print('[X] 檢查 Homework.txt 檔案字數是否符合 Hello World 字數')"
   ]
  },
  {
   "cell_type": "code",
   "execution_count": null,
   "metadata": {},
   "outputs": [],
   "source": []
  }
 ],
 "metadata": {
  "kernelspec": {
   "display_name": "Python 3",
   "language": "python",
   "name": "python3"
  },
  "language_info": {
   "codemirror_mode": {
    "name": "ipython",
    "version": 3
   },
   "file_extension": ".py",
   "mimetype": "text/x-python",
   "name": "python",
   "nbconvert_exporter": "python",
   "pygments_lexer": "ipython3",
   "version": "3.7.3"
  }
 },
 "nbformat": 4,
 "nbformat_minor": 2
}
