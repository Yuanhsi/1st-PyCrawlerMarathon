{
 "cells": [
  {
   "cell_type": "code",
   "execution_count": 13,
   "metadata": {},
   "outputs": [],
   "source": [
    "import xml.dom.minidom\n",
    "import xmltodict"
   ]
  },
  {
   "cell_type": "code",
   "execution_count": 23,
   "metadata": {},
   "outputs": [
    {
     "name": "stdout",
     "output_type": "stream",
     "text": [
      "66_Week24_EN.xml\n",
      "68_Week24_CH.xml\n",
      "67_Weekday_EN.xml\n",
      "65_Weekday_CH.xml\n",
      "09020_72hr_CH.xml\n",
      "10002_72hr_EN.xml\n",
      "10017_72hr_EN.xml\n",
      "10014_Week24_EN.xml\n",
      "67_72hr_EN.xml\n",
      "10008_72hr_CH.xml\n",
      "TAIWAN_72hr_EN.xml\n",
      "10009_Week24_CH.xml\n",
      "10007_Week24_EN.xml\n",
      "10010_Week24_EN.xml\n",
      "09007_72hr_CH.xml\n",
      "10014_72hr_CH.xml\n",
      "68_Weekday_EN.xml\n",
      "64_72hr_CH.xml\n",
      "10017_Week24_EN.xml\n",
      "10020_Week24_CH.xml\n",
      "10013_Week24_EN.xml\n",
      "10004_Week24_EN.xml\n",
      "10020_Weekday_EN.xml\n",
      "63_Weekday_CH.xml\n",
      "10020_72hr_EN.xml\n",
      "65_Week24_EN.xml\n",
      "09020_Weekday_EN.xml\n",
      "10004_72hr_CH.xml\n",
      "10018_72hr_CH.xml\n",
      "66_Weekday_EN.xml\n",
      "10007_72hr_EN.xml\n",
      "68_72hr_CH.xml\n",
      "TAIWAN_Week24_EN.xml\n",
      "64_Weekday_CH.xml\n",
      "65_Week24_CH.xml\n",
      "09020_Weekday_CH.xml\n",
      "10004_72hr_EN.xml\n",
      "66_Weekday_CH.xml\n",
      "10018_72hr_EN.xml\n",
      "10007_72hr_CH.xml\n",
      "68_72hr_EN.xml\n",
      "TAIWAN_Week24_CH.xml\n",
      "64_Weekday_EN.xml\n",
      "10017_Week24_CH.xml\n",
      "10020_Week24_EN.xml\n",
      "10013_Week24_CH.xml\n",
      "10020_Weekday_CH.xml\n",
      "10004_Week24_CH.xml\n",
      "10020_72hr_CH.xml\n",
      "63_Weekday_EN.xml\n",
      "10014_Week24_CH.xml\n",
      "10017_72hr_CH.xml\n",
      "67_72hr_CH.xml\n",
      "10008_72hr_EN.xml\n",
      "TAIWAN_72hr_CH.xml\n",
      "10007_Week24_CH.xml\n",
      "10009_Week24_EN.xml\n",
      "09007_72hr_EN.xml\n",
      "10010_Week24_CH.xml\n",
      "10014_72hr_EN.xml\n",
      "68_Weekday_CH.xml\n",
      "64_72hr_EN.xml\n",
      "68_Week24_EN.xml\n",
      "66_Week24_CH.xml\n",
      "67_Weekday_CH.xml\n",
      "65_Weekday_EN.xml\n",
      "09020_72hr_EN.xml\n",
      "10002_72hr_CH.xml\n",
      "10007_Weekday_CH.xml\n",
      "10005_Weekday_EN.xml\n",
      "10008_Week24_EN.xml\n",
      "10010_Weekday_EN.xml\n",
      "10018_Weekday_EN.xml\n",
      "10002_Week24_CH.xml\n",
      "10005_72hr_CH.xml\n",
      "10015_Week24_CH.xml\n",
      "09020_Week24_CH.xml\n",
      "10010_72hr_CH.xml\n",
      "10015_Weekday_CH.xml\n",
      "10017_Weekday_EN.xml\n",
      "10002_Weekday_EN.xml\n",
      "63_Week24_CH.xml\n",
      "09007_Weekday_CH.xml\n",
      "10008_Weekday_CH.xml\n",
      "10013_72hr_EN.xml\n",
      "63_72hr_EN.xml\n",
      "67_Week24_CH.xml\n",
      "65_72hr_CH.xml\n",
      "10015_72hr_CH.xml\n",
      "10009_Weekday_CH.xml\n",
      "10014_Weekday_CH.xml\n",
      "10009_72hr_CH.xml\n",
      "66_72hr_EN.xml\n",
      "TAIWAN_Weekday_CH.xml\n",
      "10016_72hr_EN.xml\n",
      "64_Week24_CH.xml\n",
      "10016_Weekday_EN.xml\n",
      "09007_Week24_EN.xml\n",
      "sample.xml\n",
      "10005_Week24_CH.xml\n",
      "10013_Weekday_CH.xml\n",
      "10016_Week24_CH.xml\n",
      "10018_Week24_EN.xml\n",
      "10004_Weekday_EN.xml\n",
      "09007_Week24_CH.xml\n",
      "10005_Week24_EN.xml\n",
      "10013_Weekday_EN.xml\n",
      "10018_Week24_CH.xml\n",
      "10004_Weekday_CH.xml\n",
      "10016_Week24_EN.xml\n",
      "65_72hr_EN.xml\n",
      "10009_Weekday_EN.xml\n",
      "10015_72hr_EN.xml\n",
      "10014_Weekday_EN.xml\n",
      "10009_72hr_EN.xml\n",
      "TAIWAN_Weekday_EN.xml\n",
      "66_72hr_CH.xml\n",
      "10016_72hr_CH.xml\n",
      "64_Week24_EN.xml\n",
      "10016_Weekday_CH.xml\n",
      "10010_72hr_EN.xml\n",
      "10015_Weekday_EN.xml\n",
      "10002_Weekday_CH.xml\n",
      "10017_Weekday_CH.xml\n",
      "63_Week24_EN.xml\n",
      "10008_Weekday_EN.xml\n",
      "09007_Weekday_EN.xml\n",
      "10013_72hr_CH.xml\n",
      "63_72hr_CH.xml\n",
      "67_Week24_EN.xml\n",
      "10007_Weekday_EN.xml\n",
      "10010_Weekday_CH.xml\n",
      "10005_Weekday_CH.xml\n",
      "10008_Week24_CH.xml\n",
      "10018_Weekday_CH.xml\n",
      "10002_Week24_EN.xml\n",
      "10005_72hr_EN.xml\n",
      "10015_Week24_EN.xml\n",
      "09020_Week24_EN.xml\n"
     ]
    }
   ],
   "source": [
    "import os, sys\n",
    "\n",
    "dirs = os.listdir('./data/example')\n",
    "\n",
    "for file in dirs:\n",
    "    print(file)"
   ]
  },
  {
   "cell_type": "code",
   "execution_count": 25,
   "metadata": {},
   "outputs": [],
   "source": [
    "import urllib.request\n",
    "import zipfile\n",
    "res = 'http://pycrawler.cupoy.com/file-download/part03/example.zip'\n",
    "urllib.request.urlretrieve(res,'./data/example.zip')\n",
    "\n",
    "f = zipfile.ZipFile('./data/example.zip')\n",
    "f.extractall('./data')"
   ]
  },
  {
   "cell_type": "code",
   "execution_count": 26,
   "metadata": {},
   "outputs": [
    {
     "name": "stdout",
     "output_type": "stream",
     "text": [
      "爬蟲馬拉松\n",
      "01 資料來源與存取\n",
      "02 靜態網頁爬蟲\n",
      "03 動態網頁爬蟲\n"
     ]
    }
   ],
   "source": [
    "import xml.dom.minidom\n",
    "\n",
    "# 存取檔案\n",
    "doc = xml.dom.minidom.parse('./data/sample.xml')\n",
    "\n",
    "# 取得單一節點content\n",
    "print(doc.getElementsByTagName('Title')[0].firstChild.nodeValue)\n",
    "\n",
    "chapters = doc.getElementsByTagName('Chapter')\n",
    "\n",
    "# 利用迴圈取得所有節點attribute,content\n",
    "for chapter in chapters:\n",
    "    print(chapter.getAttribute('name'),chapter.firstChild.nodeValue)"
   ]
  },
  {
   "cell_type": "code",
   "execution_count": 27,
   "metadata": {},
   "outputs": [
    {
     "name": "stdout",
     "output_type": "stream",
     "text": [
      "爬蟲馬拉松\n",
      "01 資料來源與存取\n",
      "02 靜態網頁爬蟲\n",
      "03 動態網頁爬蟲\n"
     ]
    }
   ],
   "source": [
    "import xml.etree.ElementTree as ET\n",
    "\n",
    "tree = ET.parse('./data/sample.xml')\n",
    "root = tree.getroot()\n",
    "\n",
    "print(root[0].text)\n",
    "\n",
    "chatpers = root[2]\n",
    "\n",
    "for chapter in chatpers:\n",
    "    print(chapter.attrib['name'], chapter.text)"
   ]
  },
  {
   "cell_type": "code",
   "execution_count": 28,
   "metadata": {},
   "outputs": [
    {
     "name": "stdout",
     "output_type": "stream",
     "text": [
      "{'CUPOY': OrderedDict([('Title', '爬蟲馬拉松'), ('Author', 'Wei'), ('Chapters', OrderedDict([('Chapter', [OrderedDict([('@name', '01'), ('#text', '資料來源與存取')]), OrderedDict([('@name', '02'), ('#text', '靜態網頁爬蟲')]), OrderedDict([('@name', '03'), ('#text', '動態網頁爬蟲')])])]))])}\n",
      "爬蟲馬拉松\n",
      "01 資料來源與存取\n",
      "02 靜態網頁爬蟲\n",
      "03 動態網頁爬蟲\n"
     ]
    }
   ],
   "source": [
    "import xmltodict\n",
    "\n",
    "with open('./data/sample.xml',encoding='UTF-8') as fd:\n",
    "    doc = dict(xmltodict.parse(fd.read()))\n",
    "print(doc)\n",
    "print(doc['CUPOY']['Title'])\n",
    "\n",
    "chapters = doc['CUPOY']['Chapters']['Chapter']\n",
    "for chapter in chapters:\n",
    "    print (chapter['@name'], chapter['#text'])"
   ]
  },
  {
   "cell_type": "code",
   "execution_count": 29,
   "metadata": {},
   "outputs": [
    {
     "name": "stdout",
     "output_type": "stream",
     "text": [
      "<?xml version=\"1.0\" encoding=\"UTF-8\"?>\n",
      "<CUPOY>\n",
      "    <Title>爬蟲馬拉松</Title>\n",
      "    <Author>Wei</Author>\n",
      "    <Chapters>\n",
      "        <Chapter name=\"01\">資料來源與存取</Chapter>\n",
      "        <Chapter name=\"02\">靜態網頁爬蟲</Chapter>\n",
      "        <Chapter name=\"03\">動態網頁爬蟲</Chapter>\n",
      "    </Chapters>\n",
      "</CUPOY>\n"
     ]
    }
   ],
   "source": [
    "import os \n",
    "\n",
    "fn = open('./data/sample.xml',encoding='UTF-8')\n",
    "xml = fn.read()\n",
    "print(xml)"
   ]
  },
  {
   "cell_type": "code",
   "execution_count": 30,
   "metadata": {},
   "outputs": [
    {
     "name": "stdout",
     "output_type": "stream",
     "text": [
      "高雄市有38個地區有溫度資料\n"
     ]
    }
   ],
   "source": [
    "import xmltodict\n",
    "\n",
    "count_number = 0\n",
    "\n",
    "with open('./data/64_72hr_CH.xml', encoding='UTF-8-sig') as fd:\n",
    "    doc = xmltodict.parse(fd.read())\n",
    "\n",
    "sect_with_tempers = doc[\"cwbopendata\"][\"dataset\"][\"locations\"][\"location\"]\n",
    "for sect_with_temper in sect_with_tempers:\n",
    "    for weatherElement in sect_with_temper['weatherElement']:\n",
    "        if weatherElement['description'] == '溫度':\n",
    "            count_number += 1\n",
    "\n",
    "print(\"高雄市有%s個地區有溫度資料\" % count_number)"
   ]
  },
  {
   "cell_type": "code",
   "execution_count": 31,
   "metadata": {},
   "outputs": [
    {
     "name": "stdout",
     "output_type": "stream",
     "text": [
      "鹽埕區 2019-06-28T12:00:00+08:00 33\n",
      "鼓山區 2019-06-28T12:00:00+08:00 33\n",
      "左營區 2019-06-28T12:00:00+08:00 33\n",
      "楠梓區 2019-06-28T12:00:00+08:00 34\n",
      "三民區 2019-06-28T12:00:00+08:00 32\n",
      "新興區 2019-06-28T12:00:00+08:00 33\n",
      "前金區 2019-06-28T12:00:00+08:00 33\n",
      "苓雅區 2019-06-28T12:00:00+08:00 33\n",
      "前鎮區 2019-06-28T12:00:00+08:00 33\n",
      "旗津區 2019-06-28T12:00:00+08:00 32\n",
      "小港區 2019-06-28T12:00:00+08:00 33\n",
      "鳳山區 2019-06-28T12:00:00+08:00 34\n",
      "林園區 2019-06-28T12:00:00+08:00 33\n",
      "大寮區 2019-06-28T12:00:00+08:00 34\n",
      "大樹區 2019-06-28T12:00:00+08:00 34\n",
      "大社區 2019-06-28T12:00:00+08:00 34\n",
      "仁武區 2019-06-28T12:00:00+08:00 33\n",
      "鳥松區 2019-06-28T12:00:00+08:00 34\n",
      "岡山區 2019-06-28T12:00:00+08:00 34\n",
      "橋頭區 2019-06-28T12:00:00+08:00 35\n",
      "燕巢區 2019-06-28T12:00:00+08:00 34\n",
      "田寮區 2019-06-28T12:00:00+08:00 34\n",
      "阿蓮區 2019-06-28T12:00:00+08:00 34\n",
      "路竹區 2019-06-28T12:00:00+08:00 33\n",
      "湖內區 2019-06-28T12:00:00+08:00 33\n",
      "茄萣區 2019-06-28T12:00:00+08:00 33\n",
      "永安區 2019-06-28T12:00:00+08:00 32\n",
      "彌陀區 2019-06-28T12:00:00+08:00 32\n",
      "梓官區 2019-06-28T12:00:00+08:00 32\n",
      "旗山區 2019-06-28T12:00:00+08:00 34\n",
      "美濃區 2019-06-28T12:00:00+08:00 34\n",
      "六龜區 2019-06-28T12:00:00+08:00 34\n",
      "甲仙區 2019-06-28T12:00:00+08:00 33\n",
      "杉林區 2019-06-28T12:00:00+08:00 36\n",
      "內門區 2019-06-28T12:00:00+08:00 34\n",
      "茂林區 2019-06-28T12:00:00+08:00 34\n",
      "桃源區 2019-06-28T12:00:00+08:00 31\n",
      "那瑪夏區 2019-06-28T12:00:00+08:00 29\n"
     ]
    }
   ],
   "source": [
    "with open('./data/64_72hr_CH.xml',encoding='UTF-8') as fd:\n",
    "    doc = dict(xmltodict.parse(fd.read()))\n",
    "\n",
    "sect_with_tempers = doc[\"cwbopendata\"][\"dataset\"][\"locations\"][\"location\"]\n",
    "\n",
    "for sect_with_temper in sect_with_tempers:\n",
    "    for weatherElement in sect_with_temper['weatherElement']:\n",
    "        if weatherElement['description'] == '溫度':\n",
    "            print(sect_with_temper['locationName'],weatherElement['time'][0]['dataTime'],weatherElement['time'][0]  ['elementValue']['value'])"
   ]
  },
  {
   "cell_type": "code",
   "execution_count": 32,
   "metadata": {},
   "outputs": [
    {
     "name": "stdout",
     "output_type": "stream",
     "text": [
      "2019-06-28T12:00:00+08:00 33\n",
      "2019-06-28T15:00:00+08:00 33\n",
      "2019-06-28T18:00:00+08:00 32\n",
      "2019-06-28T21:00:00+08:00 30\n",
      "2019-06-29T00:00:00+08:00 30\n",
      "2019-06-29T03:00:00+08:00 29\n",
      "2019-06-29T06:00:00+08:00 28\n",
      "2019-06-29T09:00:00+08:00 31\n",
      "2019-06-29T12:00:00+08:00 32\n",
      "2019-06-29T15:00:00+08:00 32\n",
      "2019-06-29T18:00:00+08:00 31\n",
      "2019-06-29T21:00:00+08:00 30\n",
      "2019-06-30T00:00:00+08:00 29\n",
      "2019-06-30T03:00:00+08:00 28\n",
      "2019-06-30T06:00:00+08:00 28\n",
      "2019-06-30T09:00:00+08:00 31\n",
      "2019-06-30T12:00:00+08:00 32\n",
      "2019-06-30T15:00:00+08:00 32\n",
      "2019-06-30T18:00:00+08:00 31\n",
      "2019-06-30T21:00:00+08:00 30\n",
      "2019-07-01T00:00:00+08:00 29\n",
      "2019-07-01T03:00:00+08:00 29\n",
      "2019-07-01T06:00:00+08:00 28\n",
      "2019-07-01T09:00:00+08:00 31\n"
     ]
    }
   ],
   "source": [
    "with open('./data/64_72hr_CH.xml', encoding='UTF-8') as fd:\n",
    "    doc = dict(xmltodict.parse(fd.read()))\n",
    "\n",
    "sect_with_tempers = doc[\"cwbopendata\"][\"dataset\"][\"locations\"][\"location\"]\n",
    "\n",
    "for sect_with_temper in sect_with_tempers:\n",
    "    if sect_with_temper['locationName'] == '鹽埕區':\n",
    "        for weatherElement in sect_with_temper['weatherElement']:\n",
    "            if weatherElement['description'] == '溫度':\n",
    "                for time in weatherElement['time']:\n",
    "                    print(time['dataTime'], time['elementValue']['value'])"
   ]
  },
  {
   "cell_type": "code",
   "execution_count": null,
   "metadata": {},
   "outputs": [],
   "source": []
  }
 ],
 "metadata": {
  "kernelspec": {
   "display_name": "Python 3",
   "language": "python",
   "name": "python3"
  },
  "language_info": {
   "codemirror_mode": {
    "name": "ipython",
    "version": 3
   },
   "file_extension": ".py",
   "mimetype": "text/x-python",
   "name": "python",
   "nbconvert_exporter": "python",
   "pygments_lexer": "ipython3",
   "version": "3.7.3"
  }
 },
 "nbformat": 4,
 "nbformat_minor": 2
}
