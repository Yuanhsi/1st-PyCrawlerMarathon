{
 "cells": [
  {
   "cell_type": "code",
   "execution_count": 1,
   "metadata": {},
   "outputs": [],
   "source": [
    "import requests\n",
    "import json"
   ]
  },
  {
   "cell_type": "code",
   "execution_count": null,
   "metadata": {},
   "outputs": [],
   "source": []
  },
  {
   "cell_type": "code",
   "execution_count": null,
   "metadata": {},
   "outputs": [],
   "source": [
    "# 基本code"
   ]
  },
  {
   "cell_type": "code",
   "execution_count": null,
   "metadata": {},
   "outputs": [],
   "source": [
    "r = requests.get(\"目標網址\")"
   ]
  },
  {
   "cell_type": "code",
   "execution_count": 3,
   "metadata": {},
   "outputs": [],
   "source": [
    "r = requests.get(\"https://www.dcard.tw/_api/forums/pet/posts?popular=true\")\n",
    "response = r.text\n",
    "\n",
    "data = json.loads(response) #利用json解析網頁內容"
   ]
  },
  {
   "cell_type": "code",
   "execution_count": 25,
   "metadata": {},
   "outputs": [
    {
     "name": "stdout",
     "output_type": "stream",
     "text": [
      "回傳資料數： 30\n"
     ]
    }
   ],
   "source": [
    "print(\"回傳資料數：\", len(data)) #此API會回傳30筆資料"
   ]
  },
  {
   "cell_type": "code",
   "execution_count": 30,
   "metadata": {},
   "outputs": [
    {
     "name": "stdout",
     "output_type": "stream",
     "text": [
      "資料欄位筆數 33 欄位名稱 dict_keys(['id', 'title', 'excerpt', 'anonymousSchool', 'anonymousDepartment', 'pinned', 'forumId', 'replyId', 'createdAt', 'updatedAt', 'commentCount', 'likeCount', 'withNickname', 'tags', 'topics', 'meta', 'forumName', 'forumAlias', 'gender', 'school', 'department', 'replyTitle', 'mediaMeta', 'reactions', 'hidden', 'customStyle', 'isSuspiciousAccount', 'layout', 'withImages', 'withVideos', 'media', 'reportReasonText', 'postAvatar'])\n"
     ]
    }
   ],
   "source": [
    "print(\"資料欄位筆數\", len(data[0].keys()),\n",
    "      \"欄位名稱\",data[0].keys())"
   ]
  },
  {
   "cell_type": "code",
   "execution_count": null,
   "metadata": {
    "scrolled": false
   },
   "outputs": [],
   "source": [
    "# 取出每一筆資料的標題、貼文時間、留言人數與按讚人數"
   ]
  },
  {
   "cell_type": "code",
   "execution_count": 17,
   "metadata": {},
   "outputs": [
    {
     "name": "stdout",
     "output_type": "stream",
     "text": [
      "發文時間: 2020-03-20T07:35:32.182Z 評論數: 15 按讚數: 219 標題: 跟哥哥姐姐說你賣什麼\n",
      "發文時間: 2020-03-20T00:20:42.777Z 評論數: 6 按讚數: 114 標題: 手手呢ಠ_ಠ\n",
      "發文時間: 2020-03-19T21:48:22.044Z 評論數: 6 按讚數: 36 標題: 當有了一隻像貴婦的狗\n",
      "發文時間: 2020-03-20T03:23:03.621Z 評論數: 11 按讚數: 20 標題: 你的頭怎麼卡住了🤣\n",
      "發文時間: 2020-03-20T07:07:06.758Z 評論數: 2 按讚數: 19 標題: 我家的新成員\n",
      "發文時間: 2020-03-20T15:42:06.600Z 評論數: 3 按讚數: 17 標題: 蝦蝦又來了🤪\n",
      "發文時間: 2020-03-20T10:18:11.880Z 評論數: 0 按讚數: 14 標題: 睡之狂魔\n",
      "發文時間: 2020-03-20T10:16:47.745Z 評論數: 4 按讚數: 13 標題: 是隻熊還是隻狗🐶\n",
      "發文時間: 2020-03-20T23:38:59.959Z 評論數: 0 按讚數: 12 標題: 花橘子\n",
      "發文時間: 2020-03-20T13:57:41.800Z 評論數: 7 按讚數: 12 標題: 超燒！寵物全透明背包開箱🐱\n",
      "發文時間: 2020-03-20T17:02:52.402Z 評論數: 0 按讚數: 11 標題: #貓 #圖 喵的死亡角度\n",
      "發文時間: 2020-03-20T14:59:33.054Z 評論數: 1 按讚數: 11 標題: 狗狗走失協尋 高雄凹子底站\n",
      "發文時間: 2020-03-20T11:50:59.728Z 評論數: 6 按讚數: 9 標題: 我會怕狗\n",
      "發文時間: 2020-03-20T07:27:49.953Z 評論數: 1 按讚數: 8 標題: 蛋頭貓貼圖真貓版ฅ(^•ω •^)ฅ\n",
      "發文時間: 2020-03-20T16:21:22.491Z 評論數: 1 按讚數: 6 標題: 我們永遠愛你。\n",
      "發文時間: 2020-03-20T08:21:37.253Z 評論數: 1 按讚數: 6 標題: 你好煩喔\n",
      "發文時間: 2020-03-20T02:49:52.487Z 評論數: 3 按讚數: 6 標題: 好摸好擼的貓兒子\n",
      "發文時間: 2020-03-20T07:09:48.026Z 評論數: 2 按讚數: 5 標題: 貓奴的夢想？\n",
      "發文時間: 2020-03-20T01:32:19.889Z 評論數: 3 按讚數: 5 標題: 帶狗散步不用牽繩\n",
      "發文時間: 2020-03-20T15:54:23.975Z 評論數: 2 按讚數: 4 標題: 再頂一次\n",
      "發文時間: 2020-03-20T08:45:23.837Z 評論數: 6 按讚數: 4 標題: 鸚鵡挑食\n",
      "發文時間: 2020-03-21T03:29:30.272Z 評論數: 0 按讚數: 3 標題: 關於鼠鼠結紮\n",
      "發文時間: 2020-03-21T01:20:59.246Z 評論數: 0 按讚數: 3 標題: 我家狐狸狗常常會露出很人性化表情\n",
      "發文時間: 2020-03-19T18:14:13.227Z 評論數: 1 按讚數: 3 標題: 轉：路殺\n",
      "發文時間: 2020-03-21T04:04:55.130Z 評論數: 0 按讚數: 2 標題: 亮片衣服的崩壞\n",
      "發文時間: 2020-03-21T02:22:58.347Z 評論數: 3 按讚數: 2 標題: 第一次設水草缸~~~~\n",
      "發文時間: 2020-03-20T10:19:52.025Z 評論數: 2 按讚數: 2 標題: #問 鬥魚精神很好但尾巴沒以前漂亮\n",
      "發文時間: 2020-03-20T05:17:20.410Z 評論數: 2 按讚數: 2 標題: 雖然你很胖...\n",
      "發文時間: 2020-03-21T04:45:00.081Z 評論數: 2 按讚數: 1 標題: 跟店狗互動沒有反應ಥ_ಥ\n",
      "發文時間: 2020-03-21T03:46:01.351Z 評論數: 0 按讚數: 1 標題: 求領養認養\n"
     ]
    }
   ],
   "source": [
    "for i in data:\n",
    "    print( \n",
    "          \"發文時間:\", i['createdAt'], \n",
    "          \"評論數:\", i['commentCount'], \n",
    "          \"按讚數:\", i['likeCount'],\n",
    "          \"標題:\", i[\"title\"])\n",
    "    "
   ]
  },
  {
   "cell_type": "code",
   "execution_count": 8,
   "metadata": {},
   "outputs": [],
   "source": [
    "#計算熱門/非熱門文章的「平均留言人數」與「平均按讚人數」"
   ]
  },
  {
   "cell_type": "code",
   "execution_count": 37,
   "metadata": {},
   "outputs": [
    {
     "name": "stdout",
     "output_type": "stream",
     "text": [
      "熱門文章平均評論數： 3.0 熱門文章平均讚數: 19.0\n"
     ]
    }
   ],
   "source": [
    "commentCount = 0\n",
    "likeCount = 0\n",
    "\n",
    "for i in data:\n",
    "    commentCount += i['commentCount']\n",
    "    likeCount += i['likeCount']\n",
    "\n",
    "print(\"熱門文章平均評論數：\", commentCount/len(data), \"熱門文章平均讚數:\", likeCount/len(data))"
   ]
  },
  {
   "cell_type": "code",
   "execution_count": 19,
   "metadata": {},
   "outputs": [],
   "source": []
  },
  {
   "cell_type": "code",
   "execution_count": 38,
   "metadata": {},
   "outputs": [
    {
     "name": "stdout",
     "output_type": "stream",
     "text": [
      "非熱門文章平均讚數： 1.9666666666666666 非熱門文章平均讚數： 1.6\n"
     ]
    }
   ],
   "source": [
    "r = requests.get('https://www.dcard.tw/_api/forums/job/posts?popular=false')\n",
    "response = r.text\n",
    "data = json.loads(response)\n",
    "commentCount = 0\n",
    "likeCount = 0\n",
    "\n",
    "for i in data:\n",
    "    commentCount += i['commentCount']\n",
    "    likeCount += i ['likeCount']\n",
    "    \n",
    "print(\"非熱門文章平均讚數：\", commentCount/len(data), \"非熱門文章平均讚數：\", likeCount/len(data))"
   ]
  },
  {
   "cell_type": "code",
   "execution_count": null,
   "metadata": {},
   "outputs": [],
   "source": []
  },
  {
   "cell_type": "code",
   "execution_count": null,
   "metadata": {},
   "outputs": [],
   "source": []
  },
  {
   "cell_type": "code",
   "execution_count": 25,
   "metadata": {},
   "outputs": [],
   "source": []
  },
  {
   "cell_type": "code",
   "execution_count": null,
   "metadata": {},
   "outputs": [],
   "source": []
  },
  {
   "cell_type": "code",
   "execution_count": null,
   "metadata": {},
   "outputs": [],
   "source": []
  },
  {
   "cell_type": "code",
   "execution_count": null,
   "metadata": {},
   "outputs": [],
   "source": []
  },
  {
   "cell_type": "code",
   "execution_count": null,
   "metadata": {},
   "outputs": [],
   "source": []
  },
  {
   "cell_type": "code",
   "execution_count": null,
   "metadata": {},
   "outputs": [],
   "source": []
  }
 ],
 "metadata": {
  "kernelspec": {
   "display_name": "Python 3",
   "language": "python",
   "name": "python3"
  },
  "language_info": {
   "codemirror_mode": {
    "name": "ipython",
    "version": 3
   },
   "file_extension": ".py",
   "mimetype": "text/x-python",
   "name": "python",
   "nbconvert_exporter": "python",
   "pygments_lexer": "ipython3",
   "version": "3.7.3"
  }
 },
 "nbformat": 4,
 "nbformat_minor": 2
}
