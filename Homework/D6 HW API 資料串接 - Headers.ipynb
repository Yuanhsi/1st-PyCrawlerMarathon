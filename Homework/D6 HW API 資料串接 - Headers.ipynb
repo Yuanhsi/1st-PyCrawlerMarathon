{
 "cells": [
  {
   "cell_type": "code",
   "execution_count": 2,
   "metadata": {},
   "outputs": [],
   "source": [
    "import requests\n",
    "import json"
   ]
  },
  {
   "cell_type": "code",
   "execution_count": 5,
   "metadata": {},
   "outputs": [],
   "source": [
    "# 加上headers才能偽裝成正常使用者，抓回資料\n",
    "headers = {'user-agent':'my-app/0.0.1'}\n",
    "r = requests.get('https://www.zhihu.com/api/v4/questions/55493026/answers', headers = headers)\n",
    "response = r.text"
   ]
  },
  {
   "cell_type": "code",
   "execution_count": 8,
   "metadata": {},
   "outputs": [],
   "source": [
    "data = json.loads(response)"
   ]
  },
  {
   "cell_type": "code",
   "execution_count": 19,
   "metadata": {},
   "outputs": [
    {
     "data": {
      "text/plain": [
       "{'data': [{'id': 683070334,\n",
       "   'type': 'answer',\n",
       "   'answer_type': 'normal',\n",
       "   'question': {'type': 'question',\n",
       "    'id': 55493026,\n",
       "    'title': '你们都是怎么学 Python 的？',\n",
       "    'question_type': 'normal',\n",
       "    'created': 1486390229,\n",
       "    'updated_time': 1582533957,\n",
       "    'url': 'https://www.zhihu.com/api/v4/questions/55493026',\n",
       "    'relationship': {}},\n",
       "   'author': {'id': '36f69162230003d316d0b8a6d8da20ba',\n",
       "    'url_token': 'liang-zi-wei-48',\n",
       "    'name': '量子位',\n",
       "    'avatar_url': 'https://pic4.zhimg.com/v2-ca6e7ffc10a0d10edbae635cee82d007_is.jpg',\n",
       "    'avatar_url_template': 'https://pic4.zhimg.com/v2-ca6e7ffc10a0d10edbae635cee82d007_{size}.jpg',\n",
       "    'is_org': True,\n",
       "    'type': 'people',\n",
       "    'url': 'https://www.zhihu.com/api/v4/people/36f69162230003d316d0b8a6d8da20ba',\n",
       "    'user_type': 'organization',\n",
       "    'headline': '有趣的AI&amp;前沿科技→_→ 公众号：QbitAI',\n",
       "    'badge': [{'type': 'identity', 'description': '已认证的官方帐号', 'topics': []},\n",
       "     {'type': 'best_answerer', 'description': '优秀回答者', 'topics': []}],\n",
       "    'gender': -1,\n",
       "    'is_advertiser': False,\n",
       "    'is_privacy': False},\n",
       "   'url': 'https://www.zhihu.com/api/v4/answers/683070334',\n",
       "   'is_collapsed': False,\n",
       "   'created_time': 1557824412,\n",
       "   'updated_time': 1557824412,\n",
       "   'extras': '',\n",
       "   'is_copyable': True,\n",
       "   'relationship': {'upvoted_followees': []},\n",
       "   'ad_answer': None},\n",
       "  {'id': 637938925,\n",
       "   'type': 'answer',\n",
       "   'answer_type': 'normal',\n",
       "   'question': {'type': 'question',\n",
       "    'id': 55493026,\n",
       "    'title': '你们都是怎么学 Python 的？',\n",
       "    'question_type': 'normal',\n",
       "    'created': 1486390229,\n",
       "    'updated_time': 1582533957,\n",
       "    'url': 'https://www.zhihu.com/api/v4/questions/55493026',\n",
       "    'relationship': {}},\n",
       "   'author': {'id': 'e8c4768eaa41e3749f7e8bc5ac6aa74b',\n",
       "    'url_token': 'Lanyuneet',\n",
       "    'name': 'Slumbers',\n",
       "    'avatar_url': 'https://pic2.zhimg.com/v2-f950cfef511d33500177be90030dcd3d_is.jpg',\n",
       "    'avatar_url_template': 'https://pic2.zhimg.com/v2-f950cfef511d33500177be90030dcd3d_{size}.jpg',\n",
       "    'is_org': False,\n",
       "    'type': 'people',\n",
       "    'url': 'https://www.zhihu.com/api/v4/people/e8c4768eaa41e3749f7e8bc5ac6aa74b',\n",
       "    'user_type': 'people',\n",
       "    'headline': '算法工程师',\n",
       "    'badge': [],\n",
       "    'gender': 0,\n",
       "    'is_advertiser': False,\n",
       "    'is_privacy': False},\n",
       "   'url': 'https://www.zhihu.com/api/v4/answers/637938925',\n",
       "   'is_collapsed': False,\n",
       "   'created_time': 1554085028,\n",
       "   'updated_time': 1558451618,\n",
       "   'extras': '',\n",
       "   'is_copyable': True,\n",
       "   'relationship': {'upvoted_followees': []},\n",
       "   'ad_answer': None},\n",
       "  {'id': 163537026,\n",
       "   'type': 'answer',\n",
       "   'answer_type': 'normal',\n",
       "   'question': {'type': 'question',\n",
       "    'id': 55493026,\n",
       "    'title': '你们都是怎么学 Python 的？',\n",
       "    'question_type': 'normal',\n",
       "    'created': 1486390229,\n",
       "    'updated_time': 1582533957,\n",
       "    'url': 'https://www.zhihu.com/api/v4/questions/55493026',\n",
       "    'relationship': {}},\n",
       "   'author': {'id': 'eaf435b228ce0b038a4afe8203f59b49',\n",
       "    'url_token': 'sgai',\n",
       "    'name': '路人甲',\n",
       "    'avatar_url': 'https://pic3.zhimg.com/958a18f3216805bed269d158fb83325a_is.jpg',\n",
       "    'avatar_url_template': 'https://pic3.zhimg.com/958a18f3216805bed269d158fb83325a_{size}.jpg',\n",
       "    'is_org': False,\n",
       "    'type': 'people',\n",
       "    'url': 'https://www.zhihu.com/api/v4/people/eaf435b228ce0b038a4afe8203f59b49',\n",
       "    'user_type': 'people',\n",
       "    'headline': '微信公众号：路人甲TM，微信：thisnozy',\n",
       "    'badge': [],\n",
       "    'gender': 1,\n",
       "    'is_advertiser': False,\n",
       "    'is_privacy': False},\n",
       "   'url': 'https://www.zhihu.com/api/v4/answers/163537026',\n",
       "   'is_collapsed': False,\n",
       "   'created_time': 1493693113,\n",
       "   'updated_time': 1579138388,\n",
       "   'extras': '',\n",
       "   'is_copyable': True,\n",
       "   'relationship': {'upvoted_followees': []},\n",
       "   'ad_answer': None},\n",
       "  {'id': 873825546,\n",
       "   'type': 'answer',\n",
       "   'answer_type': 'normal',\n",
       "   'question': {'type': 'question',\n",
       "    'id': 55493026,\n",
       "    'title': '你们都是怎么学 Python 的？',\n",
       "    'question_type': 'normal',\n",
       "    'created': 1486390229,\n",
       "    'updated_time': 1582533957,\n",
       "    'url': 'https://www.zhihu.com/api/v4/questions/55493026',\n",
       "    'relationship': {}},\n",
       "   'author': {'id': '4d1c2c77bc7431c2a6006d154198e8b9',\n",
       "    'url_token': 'ji-de-yao-xing-fu',\n",
       "    'name': '痴海',\n",
       "    'avatar_url': 'https://pic3.zhimg.com/v2-f9642b41b7729c029c6c7978c4c019e8_is.jpg',\n",
       "    'avatar_url_template': 'https://pic3.zhimg.com/v2-f9642b41b7729c029c6c7978c4c019e8_{size}.jpg',\n",
       "    'is_org': False,\n",
       "    'type': 'people',\n",
       "    'url': 'https://www.zhihu.com/api/v4/people/4d1c2c77bc7431c2a6006d154198e8b9',\n",
       "    'user_type': 'people',\n",
       "    'headline': '公众号「痴海」: 一起向上成长，成为一个厉害的人',\n",
       "    'badge': [],\n",
       "    'gender': 1,\n",
       "    'is_advertiser': False,\n",
       "    'is_privacy': False},\n",
       "   'url': 'https://www.zhihu.com/api/v4/answers/873825546',\n",
       "   'is_collapsed': False,\n",
       "   'created_time': 1572318426,\n",
       "   'updated_time': 1574756054,\n",
       "   'extras': '',\n",
       "   'is_copyable': False,\n",
       "   'relationship': {'upvoted_followees': []},\n",
       "   'ad_answer': None},\n",
       "  {'id': 767105831,\n",
       "   'type': 'answer',\n",
       "   'answer_type': 'normal',\n",
       "   'question': {'type': 'question',\n",
       "    'id': 55493026,\n",
       "    'title': '你们都是怎么学 Python 的？',\n",
       "    'question_type': 'normal',\n",
       "    'created': 1486390229,\n",
       "    'updated_time': 1582533957,\n",
       "    'url': 'https://www.zhihu.com/api/v4/questions/55493026',\n",
       "    'relationship': {}},\n",
       "   'author': {'id': '80cc6818bd2c70c80dc46acf777bfefc',\n",
       "    'url_token': '18500893500',\n",
       "    'name': '众生皆苦',\n",
       "    'avatar_url': 'https://pic4.zhimg.com/v2-d7068743eb6be821d9e343d473d06ece_is.jpg',\n",
       "    'avatar_url_template': 'https://pic4.zhimg.com/v2-d7068743eb6be821d9e343d473d06ece_{size}.jpg',\n",
       "    'is_org': False,\n",
       "    'type': 'people',\n",
       "    'url': 'https://www.zhihu.com/api/v4/people/80cc6818bd2c70c80dc46acf777bfefc',\n",
       "    'user_type': 'people',\n",
       "    'headline': '金融',\n",
       "    'badge': [],\n",
       "    'gender': 1,\n",
       "    'is_advertiser': False,\n",
       "    'is_privacy': False},\n",
       "   'url': 'https://www.zhihu.com/api/v4/answers/767105831',\n",
       "   'is_collapsed': False,\n",
       "   'created_time': 1564392516,\n",
       "   'updated_time': 1564392516,\n",
       "   'extras': '',\n",
       "   'is_copyable': True,\n",
       "   'relationship': {'upvoted_followees': []},\n",
       "   'ad_answer': None}],\n",
       " 'paging': {'is_end': False,\n",
       "  'is_start': True,\n",
       "  'next': 'https://www.zhihu.com/api/v4/questions/55493026/answers?limit=5&offset=5',\n",
       "  'previous': 'https://www.zhihu.com/api/v4/questions/55493026/answers?limit=5&offset=0',\n",
       "  'totals': 569}}"
      ]
     },
     "execution_count": 19,
     "metadata": {},
     "output_type": "execute_result"
    }
   ],
   "source": [
    "data"
   ]
  },
  {
   "cell_type": "code",
   "execution_count": 30,
   "metadata": {},
   "outputs": [
    {
     "name": "stdout",
     "output_type": "stream",
     "text": [
      "2017-02-06 22:10:29\n"
     ]
    }
   ],
   "source": [
    "import datetime\n",
    "from datetime import datetime\n",
    "\n",
    "question_time = data['data'][0]['question']['created']\n",
    "\n",
    "time = datetime.fromtimestamp(question_time)\n",
    "print(time)\n"
   ]
  },
  {
   "cell_type": "code",
   "execution_count": 23,
   "metadata": {},
   "outputs": [],
   "source": [
    "# 取出第一筆與最後一筆回答的時間"
   ]
  },
  {
   "cell_type": "code",
   "execution_count": 44,
   "metadata": {},
   "outputs": [
    {
     "name": "stdout",
     "output_type": "stream",
     "text": [
      "第一筆回答時間： 2019-05-14 17:00:12\n"
     ]
    }
   ],
   "source": [
    "first_answer_time = data['data'][0]['created_time']\n",
    "\n",
    "latest = 0\n",
    "for r in data['data']:\n",
    "    if r['created_time']>latest:\n",
    "        latest_answer_time = r['created_time']\n",
    "\n",
    "time = datetime.fromtimestamp(first_answer_time)\n",
    "\n",
    "first_answer_time_date = datetime.fromtimestamp(first_answer_time)\n",
    "print(\"第一筆回答時間：\", first_answer_time_date)"
   ]
  },
  {
   "cell_type": "code",
   "execution_count": 45,
   "metadata": {},
   "outputs": [
    {
     "name": "stdout",
     "output_type": "stream",
     "text": [
      "最新回應： 2019-07-29 17:28:36\n"
     ]
    }
   ],
   "source": [
    "latest_answer_time_date = datetime.fromtimestamp(latest_answer_time)\n",
    "print(\"最新回應：\", latest_answer_time_date)"
   ]
  },
  {
   "cell_type": "code",
   "execution_count": null,
   "metadata": {},
   "outputs": [],
   "source": []
  }
 ],
 "metadata": {
  "kernelspec": {
   "display_name": "Python 3",
   "language": "python",
   "name": "python3"
  },
  "language_info": {
   "codemirror_mode": {
    "name": "ipython",
    "version": 3
   },
   "file_extension": ".py",
   "mimetype": "text/x-python",
   "name": "python",
   "nbconvert_exporter": "python",
   "pygments_lexer": "ipython3",
   "version": "3.7.3"
  }
 },
 "nbformat": 4,
 "nbformat_minor": 2
}
